{
  "nbformat": 4,
  "nbformat_minor": 0,
  "metadata": {
    "colab": {
      "provenance": [],
      "include_colab_link": true
    },
    "kernelspec": {
      "name": "python3",
      "display_name": "Python 3"
    },
    "language_info": {
      "name": "python"
    }
  },
  "cells": [
    {
      "cell_type": "markdown",
      "metadata": {
        "id": "view-in-github",
        "colab_type": "text"
      },
      "source": [
        "<a href=\"https://colab.research.google.com/github/pawlenn/Proyek-Machine-Learning/blob/main/%5BKlasifikasi%5D_Submission_Akhir_BMLP_Fauren_Athira_Khanza.ipynb\" target=\"_parent\"><img src=\"https://colab.research.google.com/assets/colab-badge.svg\" alt=\"Open In Colab\"/></a>"
      ]
    },
    {
      "cell_type": "markdown",
      "source": [
        "# **1. Import Library**"
      ],
      "metadata": {
        "id": "fKADPWcFKlj3"
      }
    },
    {
      "cell_type": "markdown",
      "source": [
        "Pada tahap ini, Anda perlu mengimpor beberapa pustaka (library) Python yang dibutuhkan untuk analisis data dan pembangunan model machine learning."
      ],
      "metadata": {
        "id": "LgA3ERnVn84N"
      }
    },
    {
      "cell_type": "code",
      "source": [
        "import pandas as pd\n",
        "import numpy as np\n",
        "import matplotlib.pyplot as plt\n",
        "import seaborn as sns\n",
        "from xgboost import XGBClassifier\n",
        "from sklearn.pipeline import Pipeline\n",
        "from sklearn.compose import ColumnTransformer\n",
        "from sklearn.preprocessing import LabelEncoder\n",
        "from sklearn.ensemble import RandomForestClassifier\n",
        "from sklearn.preprocessing import OneHotEncoder, StandardScaler\n",
        "from sklearn.model_selection import train_test_split, RandomizedSearchCV, StratifiedKFold\n",
        "from sklearn.metrics import accuracy_score, f1_score, precision_score, recall_score, confusion_matrix, ConfusionMatrixDisplay"
      ],
      "metadata": {
        "id": "BlmvjLY9M4Yj"
      },
      "execution_count": null,
      "outputs": []
    },
    {
      "cell_type": "markdown",
      "source": [
        "# **2. Memuat Dataset dari Hasil Clustering**"
      ],
      "metadata": {
        "id": "f3YIEnAFKrKL"
      }
    },
    {
      "cell_type": "markdown",
      "source": [
        "Memuat dataset hasil clustering dari file CSV ke dalam variabel DataFrame."
      ],
      "metadata": {
        "id": "Ey3ItwTen_7E"
      }
    },
    {
      "cell_type": "code",
      "source": [
        "home_df = pd.read_csv(\"Dataset_clustering.csv\")"
      ],
      "metadata": {
        "id": "GHCGNTyrM5fS"
      },
      "execution_count": null,
      "outputs": []
    },
    {
      "cell_type": "code",
      "source": [
        "home_df.sample(10)"
      ],
      "metadata": {
        "colab": {
          "base_uri": "https://localhost:8080/",
          "height": 690
        },
        "id": "QG1GT2vyeWV8",
        "outputId": "83eb4a56-c3f2-48d1-c40b-80a73643a851"
      },
      "execution_count": null,
      "outputs": [
        {
          "output_type": "execute_result",
          "data": {
            "text/plain": [
              "                 Suburb              Address      Rooms         Price Method  \\\n",
              "2636         Yarraville         76 Kidman St   4.666667  4.119607e+06     PI   \n",
              "2400      Sunshine West   1/40 Warmington Rd   4.666667  1.026894e+06     SP   \n",
              "4168   Avondale Heights        9 Thompson St   6.500000  5.425123e+06      S   \n",
              "3990          Mill Park      15 Mockridge Dr   8.333333  4.316931e+06      S   \n",
              "1549                Kew         7 Heather Gr   8.333333  9.448543e+06     VB   \n",
              "2450  Templestowe Lower     315 Thompsons Rd   4.666667  6.694178e+06      S   \n",
              "6544           Hillside  10 Castlewellan Bvd  10.166667  5.491875e+06     PI   \n",
              "5852              Lalor       25 Franklin Rd   6.500000  4.154644e+06      S   \n",
              "4923           Bundoora      37 Greenwood Dr   6.500000  4.889520e+06      S   \n",
              "5856        Maribyrnong          5 Scenic Pl   6.500000  7.937361e+06      S   \n",
              "\n",
              "            SellerG        Date   Distance  Postcode  Bedroom2  ...  \\\n",
              "2636         Biggin  27/06/2016  21.200025    3013.0       3.0  ...   \n",
              "2400         Jellis  27/06/2016  32.417631    3020.0       3.0  ...   \n",
              "4168         Moonee  15/07/2017  26.329349    3034.0       4.0  ...   \n",
              "3990            Ray   8/07/2017  37.416419    3082.0       5.0  ...   \n",
              "1549  hockingstuart  27/11/2016  17.571428    3101.0       5.0  ...   \n",
              "2450          Barry   7/11/2016  32.803906    3107.0       3.0  ...   \n",
              "6544          Barry  24/02/2018  37.515957    3037.0       6.0  ...   \n",
              "5852            HAR   9/12/2017  35.747937    3075.0       4.0  ...   \n",
              "4923            Ray  26/08/2017  30.502410    3083.0       4.0  ...   \n",
              "5856         Nelson   9/12/2017  13.433718    3032.0       4.0  ...   \n",
              "\n",
              "                     CouncilArea  Lattitude  Longtitude  Propertycount  \\\n",
              "2636    Maribyrnong City Council -37.816148  144.729400         6543.0   \n",
              "2400       Brimbank City Council -37.794462  144.655000         6763.0   \n",
              "4168  Moonee Valley City Council -37.725959  144.714787         4502.0   \n",
              "3990     Whittlesea City Council -37.543520  145.087337        10529.0   \n",
              "1549     Boroondara City Council -37.802845  145.105593        10331.0   \n",
              "2450     Manningham City Council -37.725576  145.198878         5420.0   \n",
              "6544       Brimbank City Council -37.596770  144.475488         5556.0   \n",
              "5852     Whittlesea City Council -37.555238  144.990217         8279.0   \n",
              "4923        Banyule City Council -37.622884  145.095597        10175.0   \n",
              "5856    Maribyrnong City Council -37.724173  144.776424         4918.0   \n",
              "\n",
              "      Price_Bin Landsize_Bin  Distance_Bin  Type             Regionname  \\\n",
              "2636     Sedang        Besar        Sedang     t   Western Metropolitan   \n",
              "2400      Murah       Sedang          Jauh     t   Western Metropolitan   \n",
              "4168     Sedang        Besar        Sedang     t   Western Metropolitan   \n",
              "3990     Sedang        Besar          Jauh     t  Northern Metropolitan   \n",
              "1549      Mahal        Besar        Sedang     t  Southern Metropolitan   \n",
              "2450     Sedang        Besar          Jauh     t  Northern Metropolitan   \n",
              "6544     Sedang        Besar          Jauh     t   Western Metropolitan   \n",
              "5852     Sedang        Besar          Jauh     t  Northern Metropolitan   \n",
              "4923     Sedang        Besar          Jauh     t  Northern Metropolitan   \n",
              "5856      Mahal        Besar         Dekat     t   Western Metropolitan   \n",
              "\n",
              "     Cluster  \n",
              "2636       2  \n",
              "2400       2  \n",
              "4168       2  \n",
              "3990       0  \n",
              "1549       1  \n",
              "2450       3  \n",
              "6544       2  \n",
              "5852       0  \n",
              "4923       0  \n",
              "5856       2  \n",
              "\n",
              "[10 rows x 25 columns]"
            ],
            "text/html": [
              "\n",
              "  <div id=\"df-7cd208e5-47e3-42e6-8979-f23ddfc2ec3f\" class=\"colab-df-container\">\n",
              "    <div>\n",
              "<style scoped>\n",
              "    .dataframe tbody tr th:only-of-type {\n",
              "        vertical-align: middle;\n",
              "    }\n",
              "\n",
              "    .dataframe tbody tr th {\n",
              "        vertical-align: top;\n",
              "    }\n",
              "\n",
              "    .dataframe thead th {\n",
              "        text-align: right;\n",
              "    }\n",
              "</style>\n",
              "<table border=\"1\" class=\"dataframe\">\n",
              "  <thead>\n",
              "    <tr style=\"text-align: right;\">\n",
              "      <th></th>\n",
              "      <th>Suburb</th>\n",
              "      <th>Address</th>\n",
              "      <th>Rooms</th>\n",
              "      <th>Price</th>\n",
              "      <th>Method</th>\n",
              "      <th>SellerG</th>\n",
              "      <th>Date</th>\n",
              "      <th>Distance</th>\n",
              "      <th>Postcode</th>\n",
              "      <th>Bedroom2</th>\n",
              "      <th>...</th>\n",
              "      <th>CouncilArea</th>\n",
              "      <th>Lattitude</th>\n",
              "      <th>Longtitude</th>\n",
              "      <th>Propertycount</th>\n",
              "      <th>Price_Bin</th>\n",
              "      <th>Landsize_Bin</th>\n",
              "      <th>Distance_Bin</th>\n",
              "      <th>Type</th>\n",
              "      <th>Regionname</th>\n",
              "      <th>Cluster</th>\n",
              "    </tr>\n",
              "  </thead>\n",
              "  <tbody>\n",
              "    <tr>\n",
              "      <th>2636</th>\n",
              "      <td>Yarraville</td>\n",
              "      <td>76 Kidman St</td>\n",
              "      <td>4.666667</td>\n",
              "      <td>4.119607e+06</td>\n",
              "      <td>PI</td>\n",
              "      <td>Biggin</td>\n",
              "      <td>27/06/2016</td>\n",
              "      <td>21.200025</td>\n",
              "      <td>3013.0</td>\n",
              "      <td>3.0</td>\n",
              "      <td>...</td>\n",
              "      <td>Maribyrnong City Council</td>\n",
              "      <td>-37.816148</td>\n",
              "      <td>144.729400</td>\n",
              "      <td>6543.0</td>\n",
              "      <td>Sedang</td>\n",
              "      <td>Besar</td>\n",
              "      <td>Sedang</td>\n",
              "      <td>t</td>\n",
              "      <td>Western Metropolitan</td>\n",
              "      <td>2</td>\n",
              "    </tr>\n",
              "    <tr>\n",
              "      <th>2400</th>\n",
              "      <td>Sunshine West</td>\n",
              "      <td>1/40 Warmington Rd</td>\n",
              "      <td>4.666667</td>\n",
              "      <td>1.026894e+06</td>\n",
              "      <td>SP</td>\n",
              "      <td>Jellis</td>\n",
              "      <td>27/06/2016</td>\n",
              "      <td>32.417631</td>\n",
              "      <td>3020.0</td>\n",
              "      <td>3.0</td>\n",
              "      <td>...</td>\n",
              "      <td>Brimbank City Council</td>\n",
              "      <td>-37.794462</td>\n",
              "      <td>144.655000</td>\n",
              "      <td>6763.0</td>\n",
              "      <td>Murah</td>\n",
              "      <td>Sedang</td>\n",
              "      <td>Jauh</td>\n",
              "      <td>t</td>\n",
              "      <td>Western Metropolitan</td>\n",
              "      <td>2</td>\n",
              "    </tr>\n",
              "    <tr>\n",
              "      <th>4168</th>\n",
              "      <td>Avondale Heights</td>\n",
              "      <td>9 Thompson St</td>\n",
              "      <td>6.500000</td>\n",
              "      <td>5.425123e+06</td>\n",
              "      <td>S</td>\n",
              "      <td>Moonee</td>\n",
              "      <td>15/07/2017</td>\n",
              "      <td>26.329349</td>\n",
              "      <td>3034.0</td>\n",
              "      <td>4.0</td>\n",
              "      <td>...</td>\n",
              "      <td>Moonee Valley City Council</td>\n",
              "      <td>-37.725959</td>\n",
              "      <td>144.714787</td>\n",
              "      <td>4502.0</td>\n",
              "      <td>Sedang</td>\n",
              "      <td>Besar</td>\n",
              "      <td>Sedang</td>\n",
              "      <td>t</td>\n",
              "      <td>Western Metropolitan</td>\n",
              "      <td>2</td>\n",
              "    </tr>\n",
              "    <tr>\n",
              "      <th>3990</th>\n",
              "      <td>Mill Park</td>\n",
              "      <td>15 Mockridge Dr</td>\n",
              "      <td>8.333333</td>\n",
              "      <td>4.316931e+06</td>\n",
              "      <td>S</td>\n",
              "      <td>Ray</td>\n",
              "      <td>8/07/2017</td>\n",
              "      <td>37.416419</td>\n",
              "      <td>3082.0</td>\n",
              "      <td>5.0</td>\n",
              "      <td>...</td>\n",
              "      <td>Whittlesea City Council</td>\n",
              "      <td>-37.543520</td>\n",
              "      <td>145.087337</td>\n",
              "      <td>10529.0</td>\n",
              "      <td>Sedang</td>\n",
              "      <td>Besar</td>\n",
              "      <td>Jauh</td>\n",
              "      <td>t</td>\n",
              "      <td>Northern Metropolitan</td>\n",
              "      <td>0</td>\n",
              "    </tr>\n",
              "    <tr>\n",
              "      <th>1549</th>\n",
              "      <td>Kew</td>\n",
              "      <td>7 Heather Gr</td>\n",
              "      <td>8.333333</td>\n",
              "      <td>9.448543e+06</td>\n",
              "      <td>VB</td>\n",
              "      <td>hockingstuart</td>\n",
              "      <td>27/11/2016</td>\n",
              "      <td>17.571428</td>\n",
              "      <td>3101.0</td>\n",
              "      <td>5.0</td>\n",
              "      <td>...</td>\n",
              "      <td>Boroondara City Council</td>\n",
              "      <td>-37.802845</td>\n",
              "      <td>145.105593</td>\n",
              "      <td>10331.0</td>\n",
              "      <td>Mahal</td>\n",
              "      <td>Besar</td>\n",
              "      <td>Sedang</td>\n",
              "      <td>t</td>\n",
              "      <td>Southern Metropolitan</td>\n",
              "      <td>1</td>\n",
              "    </tr>\n",
              "    <tr>\n",
              "      <th>2450</th>\n",
              "      <td>Templestowe Lower</td>\n",
              "      <td>315 Thompsons Rd</td>\n",
              "      <td>4.666667</td>\n",
              "      <td>6.694178e+06</td>\n",
              "      <td>S</td>\n",
              "      <td>Barry</td>\n",
              "      <td>7/11/2016</td>\n",
              "      <td>32.803906</td>\n",
              "      <td>3107.0</td>\n",
              "      <td>3.0</td>\n",
              "      <td>...</td>\n",
              "      <td>Manningham City Council</td>\n",
              "      <td>-37.725576</td>\n",
              "      <td>145.198878</td>\n",
              "      <td>5420.0</td>\n",
              "      <td>Sedang</td>\n",
              "      <td>Besar</td>\n",
              "      <td>Jauh</td>\n",
              "      <td>t</td>\n",
              "      <td>Northern Metropolitan</td>\n",
              "      <td>3</td>\n",
              "    </tr>\n",
              "    <tr>\n",
              "      <th>6544</th>\n",
              "      <td>Hillside</td>\n",
              "      <td>10 Castlewellan Bvd</td>\n",
              "      <td>10.166667</td>\n",
              "      <td>5.491875e+06</td>\n",
              "      <td>PI</td>\n",
              "      <td>Barry</td>\n",
              "      <td>24/02/2018</td>\n",
              "      <td>37.515957</td>\n",
              "      <td>3037.0</td>\n",
              "      <td>6.0</td>\n",
              "      <td>...</td>\n",
              "      <td>Brimbank City Council</td>\n",
              "      <td>-37.596770</td>\n",
              "      <td>144.475488</td>\n",
              "      <td>5556.0</td>\n",
              "      <td>Sedang</td>\n",
              "      <td>Besar</td>\n",
              "      <td>Jauh</td>\n",
              "      <td>t</td>\n",
              "      <td>Western Metropolitan</td>\n",
              "      <td>2</td>\n",
              "    </tr>\n",
              "    <tr>\n",
              "      <th>5852</th>\n",
              "      <td>Lalor</td>\n",
              "      <td>25 Franklin Rd</td>\n",
              "      <td>6.500000</td>\n",
              "      <td>4.154644e+06</td>\n",
              "      <td>S</td>\n",
              "      <td>HAR</td>\n",
              "      <td>9/12/2017</td>\n",
              "      <td>35.747937</td>\n",
              "      <td>3075.0</td>\n",
              "      <td>4.0</td>\n",
              "      <td>...</td>\n",
              "      <td>Whittlesea City Council</td>\n",
              "      <td>-37.555238</td>\n",
              "      <td>144.990217</td>\n",
              "      <td>8279.0</td>\n",
              "      <td>Sedang</td>\n",
              "      <td>Besar</td>\n",
              "      <td>Jauh</td>\n",
              "      <td>t</td>\n",
              "      <td>Northern Metropolitan</td>\n",
              "      <td>0</td>\n",
              "    </tr>\n",
              "    <tr>\n",
              "      <th>4923</th>\n",
              "      <td>Bundoora</td>\n",
              "      <td>37 Greenwood Dr</td>\n",
              "      <td>6.500000</td>\n",
              "      <td>4.889520e+06</td>\n",
              "      <td>S</td>\n",
              "      <td>Ray</td>\n",
              "      <td>26/08/2017</td>\n",
              "      <td>30.502410</td>\n",
              "      <td>3083.0</td>\n",
              "      <td>4.0</td>\n",
              "      <td>...</td>\n",
              "      <td>Banyule City Council</td>\n",
              "      <td>-37.622884</td>\n",
              "      <td>145.095597</td>\n",
              "      <td>10175.0</td>\n",
              "      <td>Sedang</td>\n",
              "      <td>Besar</td>\n",
              "      <td>Jauh</td>\n",
              "      <td>t</td>\n",
              "      <td>Northern Metropolitan</td>\n",
              "      <td>0</td>\n",
              "    </tr>\n",
              "    <tr>\n",
              "      <th>5856</th>\n",
              "      <td>Maribyrnong</td>\n",
              "      <td>5 Scenic Pl</td>\n",
              "      <td>6.500000</td>\n",
              "      <td>7.937361e+06</td>\n",
              "      <td>S</td>\n",
              "      <td>Nelson</td>\n",
              "      <td>9/12/2017</td>\n",
              "      <td>13.433718</td>\n",
              "      <td>3032.0</td>\n",
              "      <td>4.0</td>\n",
              "      <td>...</td>\n",
              "      <td>Maribyrnong City Council</td>\n",
              "      <td>-37.724173</td>\n",
              "      <td>144.776424</td>\n",
              "      <td>4918.0</td>\n",
              "      <td>Mahal</td>\n",
              "      <td>Besar</td>\n",
              "      <td>Dekat</td>\n",
              "      <td>t</td>\n",
              "      <td>Western Metropolitan</td>\n",
              "      <td>2</td>\n",
              "    </tr>\n",
              "  </tbody>\n",
              "</table>\n",
              "<p>10 rows × 25 columns</p>\n",
              "</div>\n",
              "    <div class=\"colab-df-buttons\">\n",
              "\n",
              "  <div class=\"colab-df-container\">\n",
              "    <button class=\"colab-df-convert\" onclick=\"convertToInteractive('df-7cd208e5-47e3-42e6-8979-f23ddfc2ec3f')\"\n",
              "            title=\"Convert this dataframe to an interactive table.\"\n",
              "            style=\"display:none;\">\n",
              "\n",
              "  <svg xmlns=\"http://www.w3.org/2000/svg\" height=\"24px\" viewBox=\"0 -960 960 960\">\n",
              "    <path d=\"M120-120v-720h720v720H120Zm60-500h600v-160H180v160Zm220 220h160v-160H400v160Zm0 220h160v-160H400v160ZM180-400h160v-160H180v160Zm440 0h160v-160H620v160ZM180-180h160v-160H180v160Zm440 0h160v-160H620v160Z\"/>\n",
              "  </svg>\n",
              "    </button>\n",
              "\n",
              "  <style>\n",
              "    .colab-df-container {\n",
              "      display:flex;\n",
              "      gap: 12px;\n",
              "    }\n",
              "\n",
              "    .colab-df-convert {\n",
              "      background-color: #E8F0FE;\n",
              "      border: none;\n",
              "      border-radius: 50%;\n",
              "      cursor: pointer;\n",
              "      display: none;\n",
              "      fill: #1967D2;\n",
              "      height: 32px;\n",
              "      padding: 0 0 0 0;\n",
              "      width: 32px;\n",
              "    }\n",
              "\n",
              "    .colab-df-convert:hover {\n",
              "      background-color: #E2EBFA;\n",
              "      box-shadow: 0px 1px 2px rgba(60, 64, 67, 0.3), 0px 1px 3px 1px rgba(60, 64, 67, 0.15);\n",
              "      fill: #174EA6;\n",
              "    }\n",
              "\n",
              "    .colab-df-buttons div {\n",
              "      margin-bottom: 4px;\n",
              "    }\n",
              "\n",
              "    [theme=dark] .colab-df-convert {\n",
              "      background-color: #3B4455;\n",
              "      fill: #D2E3FC;\n",
              "    }\n",
              "\n",
              "    [theme=dark] .colab-df-convert:hover {\n",
              "      background-color: #434B5C;\n",
              "      box-shadow: 0px 1px 3px 1px rgba(0, 0, 0, 0.15);\n",
              "      filter: drop-shadow(0px 1px 2px rgba(0, 0, 0, 0.3));\n",
              "      fill: #FFFFFF;\n",
              "    }\n",
              "  </style>\n",
              "\n",
              "    <script>\n",
              "      const buttonEl =\n",
              "        document.querySelector('#df-7cd208e5-47e3-42e6-8979-f23ddfc2ec3f button.colab-df-convert');\n",
              "      buttonEl.style.display =\n",
              "        google.colab.kernel.accessAllowed ? 'block' : 'none';\n",
              "\n",
              "      async function convertToInteractive(key) {\n",
              "        const element = document.querySelector('#df-7cd208e5-47e3-42e6-8979-f23ddfc2ec3f');\n",
              "        const dataTable =\n",
              "          await google.colab.kernel.invokeFunction('convertToInteractive',\n",
              "                                                    [key], {});\n",
              "        if (!dataTable) return;\n",
              "\n",
              "        const docLinkHtml = 'Like what you see? Visit the ' +\n",
              "          '<a target=\"_blank\" href=https://colab.research.google.com/notebooks/data_table.ipynb>data table notebook</a>'\n",
              "          + ' to learn more about interactive tables.';\n",
              "        element.innerHTML = '';\n",
              "        dataTable['output_type'] = 'display_data';\n",
              "        await google.colab.output.renderOutput(dataTable, element);\n",
              "        const docLink = document.createElement('div');\n",
              "        docLink.innerHTML = docLinkHtml;\n",
              "        element.appendChild(docLink);\n",
              "      }\n",
              "    </script>\n",
              "  </div>\n",
              "\n",
              "\n",
              "<div id=\"df-53a90517-b664-4f6c-bbf3-1bea25c054e9\">\n",
              "  <button class=\"colab-df-quickchart\" onclick=\"quickchart('df-53a90517-b664-4f6c-bbf3-1bea25c054e9')\"\n",
              "            title=\"Suggest charts\"\n",
              "            style=\"display:none;\">\n",
              "\n",
              "<svg xmlns=\"http://www.w3.org/2000/svg\" height=\"24px\"viewBox=\"0 0 24 24\"\n",
              "     width=\"24px\">\n",
              "    <g>\n",
              "        <path d=\"M19 3H5c-1.1 0-2 .9-2 2v14c0 1.1.9 2 2 2h14c1.1 0 2-.9 2-2V5c0-1.1-.9-2-2-2zM9 17H7v-7h2v7zm4 0h-2V7h2v10zm4 0h-2v-4h2v4z\"/>\n",
              "    </g>\n",
              "</svg>\n",
              "  </button>\n",
              "\n",
              "<style>\n",
              "  .colab-df-quickchart {\n",
              "      --bg-color: #E8F0FE;\n",
              "      --fill-color: #1967D2;\n",
              "      --hover-bg-color: #E2EBFA;\n",
              "      --hover-fill-color: #174EA6;\n",
              "      --disabled-fill-color: #AAA;\n",
              "      --disabled-bg-color: #DDD;\n",
              "  }\n",
              "\n",
              "  [theme=dark] .colab-df-quickchart {\n",
              "      --bg-color: #3B4455;\n",
              "      --fill-color: #D2E3FC;\n",
              "      --hover-bg-color: #434B5C;\n",
              "      --hover-fill-color: #FFFFFF;\n",
              "      --disabled-bg-color: #3B4455;\n",
              "      --disabled-fill-color: #666;\n",
              "  }\n",
              "\n",
              "  .colab-df-quickchart {\n",
              "    background-color: var(--bg-color);\n",
              "    border: none;\n",
              "    border-radius: 50%;\n",
              "    cursor: pointer;\n",
              "    display: none;\n",
              "    fill: var(--fill-color);\n",
              "    height: 32px;\n",
              "    padding: 0;\n",
              "    width: 32px;\n",
              "  }\n",
              "\n",
              "  .colab-df-quickchart:hover {\n",
              "    background-color: var(--hover-bg-color);\n",
              "    box-shadow: 0 1px 2px rgba(60, 64, 67, 0.3), 0 1px 3px 1px rgba(60, 64, 67, 0.15);\n",
              "    fill: var(--button-hover-fill-color);\n",
              "  }\n",
              "\n",
              "  .colab-df-quickchart-complete:disabled,\n",
              "  .colab-df-quickchart-complete:disabled:hover {\n",
              "    background-color: var(--disabled-bg-color);\n",
              "    fill: var(--disabled-fill-color);\n",
              "    box-shadow: none;\n",
              "  }\n",
              "\n",
              "  .colab-df-spinner {\n",
              "    border: 2px solid var(--fill-color);\n",
              "    border-color: transparent;\n",
              "    border-bottom-color: var(--fill-color);\n",
              "    animation:\n",
              "      spin 1s steps(1) infinite;\n",
              "  }\n",
              "\n",
              "  @keyframes spin {\n",
              "    0% {\n",
              "      border-color: transparent;\n",
              "      border-bottom-color: var(--fill-color);\n",
              "      border-left-color: var(--fill-color);\n",
              "    }\n",
              "    20% {\n",
              "      border-color: transparent;\n",
              "      border-left-color: var(--fill-color);\n",
              "      border-top-color: var(--fill-color);\n",
              "    }\n",
              "    30% {\n",
              "      border-color: transparent;\n",
              "      border-left-color: var(--fill-color);\n",
              "      border-top-color: var(--fill-color);\n",
              "      border-right-color: var(--fill-color);\n",
              "    }\n",
              "    40% {\n",
              "      border-color: transparent;\n",
              "      border-right-color: var(--fill-color);\n",
              "      border-top-color: var(--fill-color);\n",
              "    }\n",
              "    60% {\n",
              "      border-color: transparent;\n",
              "      border-right-color: var(--fill-color);\n",
              "    }\n",
              "    80% {\n",
              "      border-color: transparent;\n",
              "      border-right-color: var(--fill-color);\n",
              "      border-bottom-color: var(--fill-color);\n",
              "    }\n",
              "    90% {\n",
              "      border-color: transparent;\n",
              "      border-bottom-color: var(--fill-color);\n",
              "    }\n",
              "  }\n",
              "</style>\n",
              "\n",
              "  <script>\n",
              "    async function quickchart(key) {\n",
              "      const quickchartButtonEl =\n",
              "        document.querySelector('#' + key + ' button');\n",
              "      quickchartButtonEl.disabled = true;  // To prevent multiple clicks.\n",
              "      quickchartButtonEl.classList.add('colab-df-spinner');\n",
              "      try {\n",
              "        const charts = await google.colab.kernel.invokeFunction(\n",
              "            'suggestCharts', [key], {});\n",
              "      } catch (error) {\n",
              "        console.error('Error during call to suggestCharts:', error);\n",
              "      }\n",
              "      quickchartButtonEl.classList.remove('colab-df-spinner');\n",
              "      quickchartButtonEl.classList.add('colab-df-quickchart-complete');\n",
              "    }\n",
              "    (() => {\n",
              "      let quickchartButtonEl =\n",
              "        document.querySelector('#df-53a90517-b664-4f6c-bbf3-1bea25c054e9 button');\n",
              "      quickchartButtonEl.style.display =\n",
              "        google.colab.kernel.accessAllowed ? 'block' : 'none';\n",
              "    })();\n",
              "  </script>\n",
              "</div>\n",
              "\n",
              "    </div>\n",
              "  </div>\n"
            ],
            "application/vnd.google.colaboratory.intrinsic+json": {
              "type": "dataframe"
            }
          },
          "metadata": {},
          "execution_count": 339
        }
      ]
    },
    {
      "cell_type": "code",
      "source": [
        "home_df.info()"
      ],
      "metadata": {
        "id": "d2x4Z3a1pRWp",
        "outputId": "6bef3efe-eb07-407f-f396-82c6c122ab87",
        "colab": {
          "base_uri": "https://localhost:8080/"
        }
      },
      "execution_count": null,
      "outputs": [
        {
          "output_type": "stream",
          "name": "stdout",
          "text": [
            "<class 'pandas.core.frame.DataFrame'>\n",
            "RangeIndex: 6644 entries, 0 to 6643\n",
            "Data columns (total 25 columns):\n",
            " #   Column         Non-Null Count  Dtype  \n",
            "---  ------         --------------  -----  \n",
            " 0   Suburb         6644 non-null   object \n",
            " 1   Address        6644 non-null   object \n",
            " 2   Rooms          6644 non-null   float64\n",
            " 3   Price          6644 non-null   float64\n",
            " 4   Method         6644 non-null   object \n",
            " 5   SellerG        6644 non-null   object \n",
            " 6   Date           6644 non-null   object \n",
            " 7   Distance       6644 non-null   float64\n",
            " 8   Postcode       6644 non-null   float64\n",
            " 9   Bedroom2       6644 non-null   float64\n",
            " 10  Bathroom       6644 non-null   float64\n",
            " 11  Car            6644 non-null   float64\n",
            " 12  Landsize       6644 non-null   float64\n",
            " 13  BuildingArea   6644 non-null   float64\n",
            " 14  YearBuilt      6644 non-null   float64\n",
            " 15  CouncilArea    6644 non-null   object \n",
            " 16  Lattitude      6644 non-null   float64\n",
            " 17  Longtitude     6644 non-null   float64\n",
            " 18  Propertycount  6644 non-null   float64\n",
            " 19  Price_Bin      6644 non-null   object \n",
            " 20  Landsize_Bin   6644 non-null   object \n",
            " 21  Distance_Bin   6644 non-null   object \n",
            " 22  Type           6644 non-null   object \n",
            " 23  Regionname     6644 non-null   object \n",
            " 24  Cluster        6644 non-null   int64  \n",
            "dtypes: float64(13), int64(1), object(11)\n",
            "memory usage: 1.3+ MB\n"
          ]
        }
      ]
    },
    {
      "cell_type": "markdown",
      "source": [
        "# **3. Data Splitting**"
      ],
      "metadata": {
        "id": "KkPem5eWL2UP"
      }
    },
    {
      "cell_type": "markdown",
      "source": [
        "Tahap Data Splitting bertujuan untuk memisahkan dataset menjadi dua bagian: data latih (training set) dan data uji (test set)."
      ],
      "metadata": {
        "id": "YYj1rl_JNI9Y"
      }
    },
    {
      "cell_type": "code",
      "source": [
        "# Menghapus kolom yang tidak relevan seperti 'Address' dan 'Date'\n",
        "X = home_df.drop(columns=['Cluster', 'Address', 'Date'])\n",
        "y = home_df['Cluster']\n",
        "\n",
        "categorical_cols = ['Suburb', 'Method', 'SellerG', 'CouncilArea', 'Type', 'Regionname']\n",
        "X = pd.get_dummies(X, columns=categorical_cols)"
      ],
      "metadata": {
        "id": "8hYY6JClyHiY"
      },
      "execution_count": null,
      "outputs": []
    },
    {
      "cell_type": "code",
      "source": [
        "binning_cols = ['Price_Bin', 'Landsize_Bin', 'Distance_Bin']\n",
        "# mengubah kategori menjadi angka\n",
        "label_encoders = {}\n",
        "for col in binning_cols:\n",
        "    if col in X.columns:  # Pastikan kolom ada di dataset\n",
        "        le = LabelEncoder()\n",
        "        X[col] = le.fit_transform(X[col].astype(str))\n",
        "        label_encoders[col] = le  # Simpan encoder untuk referensi"
      ],
      "metadata": {
        "id": "lpt4LPQetQoW"
      },
      "execution_count": null,
      "outputs": []
    },
    {
      "cell_type": "code",
      "source": [
        "X_train, X_test, y_train, y_test = train_test_split(X, y, test_size=0.2, stratify=y, random_state=42)"
      ],
      "metadata": {
        "id": "ErYB7r9n_54D"
      },
      "execution_count": null,
      "outputs": []
    },
    {
      "cell_type": "markdown",
      "source": [
        "# **4. Membangun Model Klasifikasi**\n"
      ],
      "metadata": {
        "id": "IVPbB03CMhTT"
      }
    },
    {
      "cell_type": "markdown",
      "source": [
        "## **a. Membangun Model Klasifikasi**"
      ],
      "metadata": {
        "id": "Ned1pL9zMmBK"
      }
    },
    {
      "cell_type": "markdown",
      "source": [
        "Setelah memilih algoritma klasifikasi yang sesuai, langkah selanjutnya adalah melatih model menggunakan data latih.\n",
        "\n",
        "Berikut adalah rekomendasi tahapannya.\n",
        "1. Pilih algoritma klasifikasi yang sesuai, seperti Logistic Regression, Decision Tree, Random Forest, atau K-Nearest Neighbors (KNN).\n",
        "2. Latih model menggunakan data latih."
      ],
      "metadata": {
        "id": "WAWzPOE4Nkti"
      }
    },
    {
      "cell_type": "markdown",
      "source": [
        "### **Penjelasan Singkat tentang Random Forest dan XGBoost**\n",
        "\n",
        "#### **1. Random Forest**\n",
        "Random Forest adalah model ensemble yang terdiri dari banyak pohon keputusan (decision trees). Setiap pohon keputusan dihasilkan dari subset acak dari data pelatihan dan subset acak dari fitur yang ada.\n",
        "\n",
        "- **Proses Kerja:**\n",
        "  1. **Bagging (Bootstrap Aggregating)**: Menggunakan sampling acak dengan pengembalian (bootstrap) untuk menghasilkan beberapa subset data dari dataset pelatihan.\n",
        "  2. **Pembuatan Pohon Keputusan**: Setiap pohon keputusan dibuat berdasarkan subset data yang berbeda. Fitur juga dipilih secara acak di setiap pembelahan pohon.\n",
        "  3. **Voting untuk Prediksi**: Setelah semua pohon dilatih, hasil prediksi (untuk klasifikasi) diambil dari voting mayoritas pohon, sementara untuk regresi, prediksi adalah rata-rata dari semua pohon.\n",
        "\n",
        "#### **2. XGBoost (Extreme Gradient Boosting)**\n",
        "XGBoost adalah algoritma boosting yang sangat populer dan kuat, yang menggunakan teknik gradient boosting untuk mengoptimalkan model.\n",
        "\n",
        "- **Proses Kerja:**\n",
        "  1. **Boosting**: Menghasilkan pohon keputusan secara iteratif, di mana setiap pohon berikutnya berusaha untuk mengoreksi kesalahan yang dilakukan oleh pohon sebelumnya.\n",
        "  2. **Gradient Descent**: Setiap pohon baru dibangun untuk meminimalkan kesalahan (loss function) yang diukur dengan gradien, yaitu perubahan yang dibutuhkan untuk memperbaiki prediksi model.\n",
        "  3. **Regularisasi**: XGBoost juga menggunakan regularisasi (L1 dan L2) untuk mengurangi overfitting dan membuat model lebih robust.\n"
      ],
      "metadata": {
        "id": "seYoHNY3XU1y"
      }
    },
    {
      "cell_type": "code",
      "source": [
        "# Train Random Forest\n",
        "rf_model = RandomForestClassifier(n_estimators=100, random_state=42)\n",
        "rf_model.fit(X_train, y_train)\n",
        "y_pred_rf = rf_model.predict(X_test)"
      ],
      "metadata": {
        "id": "tENcI5m_sVQD"
      },
      "execution_count": null,
      "outputs": []
    },
    {
      "cell_type": "code",
      "source": [
        "# Train XGBoost\n",
        "xgb_model = XGBClassifier(eval_metric='mlogloss', random_state=42)\n",
        "xgb_model.fit(X_train, y_train)\n",
        "y_pred_xgb = xgb_model.predict(X_test)"
      ],
      "metadata": {
        "id": "D8AFDrimwRU8"
      },
      "execution_count": null,
      "outputs": []
    },
    {
      "cell_type": "markdown",
      "source": [
        "## **b. Evaluasi Model Klasifikasi**"
      ],
      "metadata": {
        "id": "ergzChZFEL-O"
      }
    },
    {
      "cell_type": "markdown",
      "source": [
        "Berikut adalah **rekomendasi** tahapannya.\n",
        "1. Lakukan prediksi menggunakan data uji.\n",
        "2. Hitung metrik evaluasi seperti Accuracy dan F1-Score (Opsional: Precision dan Recall).\n",
        "3. Buat confusion matrix untuk melihat detail prediksi benar dan salah."
      ],
      "metadata": {
        "id": "zOm68u-7NpLT"
      }
    },
    {
      "cell_type": "code",
      "source": [
        "def evaluate_model(name, y_true, y_pred):\n",
        "    accuracy = accuracy_score(y_true, y_pred)\n",
        "    f1 = f1_score(y_true, y_pred, average='weighted')\n",
        "    precision = precision_score(y_true, y_pred, average='weighted', zero_division=0)\n",
        "    recall = recall_score(y_true, y_pred, average='weighted')\n",
        "\n",
        "    print(f\"{name} Model Performance:\")\n",
        "    print(f\"Accuracy: {accuracy:.4f}\")\n",
        "    print(f\"F1-Score: {f1:.4f}\")\n",
        "    print(f\"Precision: {precision:.4f}\")\n",
        "    print(f\"Recall: {recall:.4f}\\n\")\n",
        "\n",
        "    cm = confusion_matrix(y_true, y_pred)\n",
        "    disp = ConfusionMatrixDisplay(confusion_matrix=cm)\n",
        "    disp.plot(cmap='Blues')\n",
        "    plt.title(f\"Confusion Matrix - {name}\")\n",
        "    plt.show()\n",
        "\n",
        "evaluate_model(\"Random Forest\", y_test, y_pred_rf)\n",
        "evaluate_model(\"XGBoost\", y_test, y_pred_xgb)"
      ],
      "metadata": {
        "colab": {
          "base_uri": "https://localhost:8080/",
          "height": 1000
        },
        "id": "_sbZbLrWslZL",
        "outputId": "1ba36593-6d03-461f-e0fd-2d184c25b7e1"
      },
      "execution_count": null,
      "outputs": [
        {
          "output_type": "stream",
          "name": "stdout",
          "text": [
            "Random Forest Model Performance:\n",
            "Accuracy: 1.0000\n",
            "F1-Score: 1.0000\n",
            "Precision: 1.0000\n",
            "Recall: 1.0000\n",
            "\n"
          ]
        },
        {
          "output_type": "display_data",
          "data": {
            "text/plain": [
              "<Figure size 640x480 with 2 Axes>"
            ],
            "image/png": "[encoded data removed]"
          },
          "metadata": {}
        },
        {
          "output_type": "stream",
          "name": "stdout",
          "text": [
            "XGBoost Model Performance:\n",
            "Accuracy: 1.0000\n",
            "F1-Score: 1.0000\n",
            "Precision: 1.0000\n",
            "Recall: 1.0000\n",
            "\n"
          ]
        },
        {
          "output_type": "display_data",
          "data": {
            "text/plain": [
              "<Figure size 640x480 with 2 Axes>"
            ],
            "image/png": "[encoded data removed]"
          },
          "metadata": {}
        }
      ]
    },
    {
      "cell_type": "markdown",
      "source": [
        "Tulis hasil evaluasi algoritma yang digunakan, jika Anda menggunakan 2 algoritma, maka bandingkan hasilnya."
      ],
      "metadata": {
        "id": "H4_9OwrsXZlz"
      }
    },
    {
      "cell_type": "markdown",
      "source": [
        "## **c. Tuning Model Klasifikasi (Optional)**"
      ],
      "metadata": {
        "id": "ph9yIYDXEPuB"
      }
    },
    {
      "cell_type": "markdown",
      "source": [
        "Gunakan GridSearchCV, RandomizedSearchCV, atau metode lainnya untuk mencari kombinasi hyperparameter terbaik"
      ],
      "metadata": {
        "id": "-Bikx3LINv5e"
      }
    },
    {
      "cell_type": "code",
      "source": [
        "# Identifikasi kolom kategorikal dan numerik\n",
        "categorical_cols = X.select_dtypes(include=['object']).columns.tolist()\n",
        "numerical_cols = X.select_dtypes(exclude=['object']).columns.tolist()\n",
        "\n",
        "# Preprocessing pipeline\n",
        "preprocessor = ColumnTransformer(\n",
        "    transformers=[\n",
        "        ('num', StandardScaler(), numerical_cols),\n",
        "        ('cat', OneHotEncoder(handle_unknown='ignore'), categorical_cols)\n",
        "    ]\n",
        ")\n",
        "\n",
        "# Setup cross-validation\n",
        "cv = StratifiedKFold(n_splits=3, shuffle=True, random_state=42)\n",
        "\n",
        "# ========== Random Forest Hyperparameter Tuning ==========\n",
        "rf_pipeline = Pipeline([\n",
        "    ('preprocessor', preprocessor),\n",
        "    ('classifier', RandomForestClassifier(random_state=42))\n",
        "])\n",
        "\n",
        "param_dist_rf = {\n",
        "    'classifier__n_estimators': [50, 100],\n",
        "    'classifier__max_depth': [10, 20],\n",
        "    'classifier__min_samples_split': [2, 5],\n",
        "    'classifier__min_samples_leaf': [1, 2]\n",
        "}\n",
        "\n",
        "random_search_rf = RandomizedSearchCV(\n",
        "    rf_pipeline, param_dist_rf, n_iter=5, cv=cv, verbose=1, n_jobs=-1, random_state=42, error_score='raise'\n",
        ")\n",
        "\n",
        "best_rf_model = random_search_rf.fit(X_train, y_train)\n",
        "\n",
        "# ========== XGBoost Hyperparameter Tuning ==========\n",
        "xgb_pipeline = Pipeline([\n",
        "    ('preprocessor', preprocessor),\n",
        "    ('classifier', XGBClassifier(random_state=42, eval_metric='logloss'))\n",
        "])\n",
        "\n",
        "param_dist_xgb = {\n",
        "    'classifier__n_estimators': [50, 100],\n",
        "    'classifier__max_depth': [3, 5],\n",
        "    'classifier__learning_rate': [0.01, 0.1]\n",
        "}\n",
        "\n",
        "random_search_xgb = RandomizedSearchCV(\n",
        "    xgb_pipeline, param_dist_xgb, n_iter=5, cv=cv, verbose=1, n_jobs=-1, random_state=42, error_score='raise'\n",
        ")\n",
        "\n",
        "best_xgb_model = random_search_xgb.fit(X_train, y_train)"
      ],
      "metadata": {
        "id": "winbFzb8NL95",
        "colab": {
          "base_uri": "https://localhost:8080/"
        },
        "outputId": "d1c59ea6-4f82-452c-a780-dd510c7ca819"
      },
      "execution_count": null,
      "outputs": [
        {
          "output_type": "stream",
          "name": "stdout",
          "text": [
            "Fitting 3 folds for each of 5 candidates, totalling 15 fits\n",
            "Fitting 3 folds for each of 5 candidates, totalling 15 fits\n"
          ]
        }
      ]
    },
    {
      "cell_type": "markdown",
      "source": [
        "## **d. Evaluasi Model Klasifikasi setelah Tuning (Optional)**"
      ],
      "metadata": {
        "id": "hE7pqlEPEYzI"
      }
    },
    {
      "cell_type": "markdown",
      "source": [
        "Berikut adalah rekomendasi tahapannya.\n",
        "1. Gunakan model dengan hyperparameter terbaik.\n",
        "2. Hitung ulang metrik evaluasi untuk melihat apakah ada peningkatan performa."
      ],
      "metadata": {
        "id": "feaPESoeN0zz"
      }
    },
    {
      "cell_type": "code",
      "source": [
        "from sklearn.metrics import accuracy_score, f1_score, precision_score, recall_score, confusion_matrix\n",
        "import seaborn as sns\n",
        "import matplotlib.pyplot as plt\n",
        "\n",
        "# Evaluasi untuk Random Forest\n",
        "if 'best_rf_model' in locals():\n",
        "    y_pred_rf = best_rf_model.predict(X_test)\n",
        "    print(\"Random Forest Evaluation Metrics:\")\n",
        "    print(\"Accuracy:\", accuracy_score(y_test, y_pred_rf))\n",
        "    print(\"F1 Score:\", f1_score(y_test, y_pred_rf, average='weighted'))\n",
        "    print(\"Precision:\", precision_score(y_test, y_pred_rf, average='weighted'))\n",
        "    print(\"Recall:\", recall_score(y_test, y_pred_rf, average='weighted'))\n",
        "\n",
        "    cm_rf = confusion_matrix(y_test, y_pred_rf)\n",
        "    print(\"\\nConfusion Matrix (Random Forest):\")\n",
        "    print(cm_rf)\n",
        "\n",
        "    plt.figure(figsize=(8, 6))\n",
        "    sns.heatmap(cm_rf, annot=True, fmt=\"d\", cmap=\"Blues\", xticklabels=range(len(cm_rf)), yticklabels=range(len(cm_rf)))\n",
        "    plt.xlabel(\"Predicted\")\n",
        "    plt.ylabel(\"True\")\n",
        "    plt.title(\"Confusion Matrix - Random Forest\")\n",
        "    plt.show()\n",
        "\n",
        "# Evaluasi untuk XGBoost\n",
        "if 'best_xgb_model' in locals():\n",
        "    y_pred_xgb = best_xgb_model.predict(X_test)\n",
        "    print(\"\\nXGBoost Evaluation Metrics:\")\n",
        "    print(\"Accuracy:\", accuracy_score(y_test, y_pred_xgb))\n",
        "    print(\"F1 Score:\", f1_score(y_test, y_pred_xgb, average='weighted'))\n",
        "    print(\"Precision:\", precision_score(y_test, y_pred_xgb, average='weighted'))\n",
        "    print(\"Recall:\", recall_score(y_test, y_pred_xgb, average='weighted'))\n",
        "\n",
        "    cm_xgb = confusion_matrix(y_test, y_pred_xgb)\n",
        "    print(\"\\nConfusion Matrix (XGBoost):\")\n",
        "    print(cm_xgb)\n",
        "\n",
        "    plt.figure(figsize=(8, 6))\n",
        "    sns.heatmap(cm_xgb, annot=True, fmt=\"d\", cmap=\"Blues\", xticklabels=range(len(cm_xgb)), yticklabels=range(len(cm_xgb)))\n",
        "    plt.xlabel(\"Predicted\")\n",
        "    plt.ylabel(\"True\")\n",
        "    plt.title(\"Confusion Matrix - XGBoost\")\n",
        "    plt.show()"
      ],
      "metadata": {
        "id": "HTXZRvEeNMb1",
        "colab": {
          "base_uri": "https://localhost:8080/",
          "height": 1000
        },
        "outputId": "3d742563-9f3b-4e88-a360-1f6ff067d89a"
      },
      "execution_count": null,
      "outputs": [
        {
          "output_type": "stream",
          "name": "stdout",
          "text": [
            "Random Forest Evaluation Metrics:\n",
            "Accuracy: 1.0\n",
            "F1 Score: 1.0\n",
            "Precision: 1.0\n",
            "Recall: 1.0\n",
            "\n",
            "Confusion Matrix (Random Forest):\n",
            "[[395   0   0   0]\n",
            " [  0 396   0   0]\n",
            " [  0   0 316   0]\n",
            " [  0   0   0 222]]\n"
          ]
        },
        {
          "output_type": "display_data",
          "data": {
            "text/plain": [
              "<Figure size 800x600 with 2 Axes>"
            ],
            "image/png": "[encoded data removed]"
          },
          "metadata": {}
        },
        {
          "output_type": "stream",
          "name": "stdout",
          "text": [
            "\n",
            "XGBoost Evaluation Metrics:\n",
            "Accuracy: 1.0\n",
            "F1 Score: 1.0\n",
            "Precision: 1.0\n",
            "Recall: 1.0\n",
            "\n",
            "Confusion Matrix (XGBoost):\n",
            "[[395   0   0   0]\n",
            " [  0 396   0   0]\n",
            " [  0   0 316   0]\n",
            " [  0   0   0 222]]\n"
          ]
        },
        {
          "output_type": "display_data",
          "data": {
            "text/plain": [
              "<Figure size 800x600 with 2 Axes>"
            ],
            "image/png": "[encoded data removed]"
          },
          "metadata": {}
        }
      ]
    },
    {
      "cell_type": "markdown",
      "source": [
        "## **e. Analisis Hasil Evaluasi Model Klasifikasi**"
      ],
      "metadata": {
        "id": "ZRsOdm4uEgAW"
      }
    },
    {
      "cell_type": "markdown",
      "source": [
        "# **Analisis Hasil Evaluasi Model Klasifikasi**\n",
        "\n",
        "## 1. Perbandingan Hasil Evaluasi Sebelum dan Setelah Tuning\n",
        "\n",
        "Pada tahap ini, kita telah melatih model menggunakan **Random Forest** dan **XGBoost**.\n",
        "\n",
        "Hasil evaluasi model setelah tuning menunjukkan bahwa skor untuk semua metrik (**Accuracy**, **F1 Score**, **Precision**, dan **Recall**) dan untuk kedua model, hasilnya adalah **1.0**.\n",
        "\n",
        "- **Accuracy**: 1.0\n",
        "- **F1 Score**: 1.0\n",
        "- **Precision**: 1.0\n",
        "- **Recall**: 1.0\n",
        "\n",
        "Untuk meningkatkan performa model, kita melakukan **hyperparameter tuning** menggunakan **RandomizedSearchCV** untuk menemukan kombinasi hyperparameter terbaik.\n",
        "\n",
        "### Tuning dengan RandomizedSearchCV:\n",
        "Metode **RandomizedSearchCV** digunakan untuk mengeksplorasi ruang hyperparameter model dengan lebih efisien. Alih-alih mencoba setiap kombinasi seperti pada **GridSearchCV**, **RandomizedSearchCV** mengambil sampel secara acak dari distribusi hyperparameter yang didefinisikan, mengurangi waktu pencarian dan tetap memberikan hasil yang baik. Kami mengonfigurasi pencarian untuk menemukan hyperparameter terbaik pada **Random Forest** dan **XGBoost**.\n",
        "\n",
        "Hasil evaluasi model setelah tuning menunjukkan bahwa skor untuk semua metrik (**Accuracy**, **F1 Score**, **Precision**, dan **Recall**) adalah **1.0**.\n",
        "\n",
        "- **Accuracy**: 1.0\n",
        "- **F1 Score**: 1.0\n",
        "- **Precision**: 1.0\n",
        "- **Recall**: 1.0\n",
        "\n",
        "Nilai **1.0** yang sempurna pada semua metrik ini menunjukkan bahwa model berhasil mengklasifikasikan semua data uji dengan benar. Ini adalah hasil yang luar biasa, namun perlu diperhatikan bahwa nilai sempurna ini mungkin menunjukkan adanya masalah lain dalam evaluasi model.\n",
        "\n",
        "**Perbandingan Sebelum dan Setelah Tuning**:\n",
        "Karena sebelumnya hasilnya sudah menunjukkan nilai evaluasi yang sempurna, maka setelah tunning pun menghasilkan evaluasi model dengan nilai yang sama. Namun, karena evaluasi menunjukkan nilai **1.0** pada semua metrik, kita perlu memeriksa lebih lanjut apakah model mengalami masalah lain seperti **overfitting** atau **underfitting**.\n",
        "\n",
        "## 2. Identifikasi Kelemahan Model\n",
        "\n",
        "Walaupun model menunjukkan nilai **1.0** pada semua metrik evaluasi, ada beberapa kemungkinan kelemahan yang perlu dikaji lebih lanjut untuk memastikan model tidak mengalami masalah yang tersembunyi, seperti:\n",
        "\n",
        "### a. Kelemahan yang Mungkin Tidak Terlihat (Overfitting atau Underfitting)\n",
        "- **Overfitting**: Model mungkin terlalu \"terlatih\" pada data pelatihan, menyebabkan model mengingat setiap detail data pelatihan dan gagal untuk generalisasi dengan baik pada data baru. Jika kita hanya menguji model pada satu set data uji yang tidak cukup beragam, hasil yang sempurna ini bisa menunjukkan bahwa model terlalu cocok dengan data pelatihan.\n",
        "- **Underfitting**: Meskipun hasil evaluasi menunjukkan performa yang sangat baik, kita tidak bisa sepenuhnya menyingkirkan kemungkinan model terlalu sederhana atau tidak mampu menangkap pola yang lebih kompleks dalam data.\n",
        "\n",
        "### b. Data Uji Tidak Mewakili Variasi Dunia Nyata\n",
        "- **Ketidakseimbangan Kelas**: Meskipun hasil evaluasi menunjukkan nilai **1.0**, bisa jadi data uji memiliki distribusi kelas yang sangat seimbang, sehingga model hanya perlu memprediksi sebagian besar kelas dengan benar. Namun, dalam dunia nyata, distribusi kelas bisa lebih tidak seimbang, dan model mungkin gagal untuk mengklasifikasikan kelas minoritas dengan benar.\n",
        "- **Variasi Data Uji**: Dataset uji yang terlalu kecil atau tidak cukup beragam dapat menyebabkan model bekerja lebih baik daripada yang seharusnya. Oleh karena itu, penting untuk melakukan validasi silang untuk memastikan model berperforma baik di berbagai kondisi.\n",
        "\n",
        "### c. Model Terkunci pada Data Pelatihan\n",
        "Model bisa jadi hanya mengingat data pelatihan jika dataset tersebut kecil atau tidak beragam. Dalam hal ini, meskipun evaluasi pada data uji memberikan hasil yang sempurna, kita perlu memastikan bahwa model dapat mengatasi kondisi data yang lebih beragam dan belum pernah dilihat sebelumnya.\n",
        "\n",
        "## 3. Rekomendasi Tindakan Lanjutan\n",
        "\n",
        "Berdasarkan hasil evaluasi yang menunjukkan nilai **1.0** pada semua metrik evaluasi, berikut adalah beberapa langkah yang bisa diambil untuk meningkatkan model:\n",
        "\n",
        "### a. Mengumpulkan Data Lebih Banyak\n",
        "Model dengan hasil yang sempurna pada data uji mungkin berisiko overfitting jika dataset yang digunakan terlalu kecil atau tidak beragam. Oleh karena itu, **mengumpulkan data tambahan** dan meningkatkan variasi data dalam pelatihan akan membantu model untuk lebih generalisabel dan tidak terlalu bergantung pada data pelatihan yang terbatas.\n",
        "\n",
        "### b. Eksplorasi Algoritma Lain\n",
        "Walaupun **Random Forest** dan **XGBoost** menunjukkan performa yang sangat baik, cobalah untuk mengeksplorasi **algoritma lain** yang mungkin lebih cocok dengan masalah ini. Beberapa algoritma lain yang bisa dipertimbangkan termasuk:\n",
        "- **Support Vector Machine (SVM)**: Dikenal baik untuk masalah klasifikasi dengan banyak fitur atau dimensi tinggi.\n",
        "- **Logistic Regression**: Sebuah model yang sederhana dan cepat, sangat efektif untuk masalah klasifikasi dengan dua kelas.\n",
        "- **Neural Networks**: Jika data sangat besar dan kompleks, neural networks dapat menangkap pola yang lebih kompleks.\n",
        "\n",
        "### c. Regularisasi untuk Mencegah Overfitting\n",
        "Jika model menunjukkan tanda-tanda **overfitting**, langkah berikutnya adalah menerapkan **regularisasi**. Pada model **Random Forest**, kita bisa mencoba mengatur parameter seperti **max_depth**, **min_samples_split**, dan **min_samples_leaf**. Untuk **XGBoost**, kita bisa mengatur **max_depth**, **learning_rate**, dan **n_estimators** untuk mengurangi kompleksitas model dan memperbaiki kemampuan generalisasi.\n",
        "\n",
        "### d. Validasi Silang (Cross-Validation)\n",
        "Untuk memastikan bahwa model bekerja dengan baik di berbagai subset data, sangat disarankan untuk melakukan **cross-validation**. Ini akan memberikan gambaran yang lebih baik mengenai performa model pada data yang lebih bervariasi dan mengurangi kemungkinan overfitting pada data uji tertentu.\n",
        "\n",
        "Dengan langkah-langkah tersebut, model akan lebih kuat dan dapat mengatasi tantangan dunia nyata dengan lebih efektif.\n",
        "\n"
      ],
      "metadata": {
        "id": "a4GcoviyDfQ8"
      }
    }
  ]
}